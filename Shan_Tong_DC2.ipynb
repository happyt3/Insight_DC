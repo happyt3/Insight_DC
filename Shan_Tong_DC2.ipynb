{
 "cells": [
  {
   "cell_type": "code",
   "execution_count": 1,
   "metadata": {},
   "outputs": [],
   "source": [
    "import os\n",
    "\n",
    "import numpy as np\n",
    "import pandas as pd\n",
    "\n",
    "import matplotlib.pyplot as plt\n",
    "import seaborn as sns\n",
    "sns.set_style('whitegrid')\n",
    "\n",
    "p_data_raw = os.path.abspath('data') # raw data path\n",
    "\n",
    "user_table   = pd.read_csv(p_data_raw+'/user_table.csv')\n",
    "test_results = pd.read_csv(p_data_raw+'/test_results.csv',index_col=0)"
   ]
  },
  {
   "cell_type": "markdown",
   "metadata": {},
   "source": [
    "# Goal\n",
    "To evaluate whether a pricing test running on the site has been successful (focus on user segmentation and provide insights about segments who behave differently as well as any other insights you might find)  \n",
    "  \n",
    "# Questions:  \n",
    "1. Should the company sell its software for 39 or 59?  \n",
    " Sell price at 59 will decrease conversion rate. The company should stick with a sale price of 39.\n",
    "  \n",
    "2. The VP of Product is interested in having a holistic view into user behavior, especially focusing on actionable insights that might increase conversion rate. What are your main findings looking at the data?  \n",
    " Friend referral from iOS platform (iphone/ipad) has the strongest impact on conversion rate; google ads and facebook ads are pretty effective too.\n",
    "  \n",
    "3. The VP of Product feels that the test has been running for too long and she should have been able to get statistically significant results in a shorter time. Do you agree with her intuition? After how many days would you have stopped the test? Please, explain why.  \n",
    " Yes I agree. I will stop the test a day 7 because the p-value of the wilcoxon test dropped to 0.008980(<0.01) at that day (2015-03-08), which indicates the increase of price harms the conversion rate significantly."
   ]
  },
  {
   "cell_type": "markdown",
   "metadata": {},
   "source": [
    "## Data\n",
    "### Table: user_table"
   ]
  },
  {
   "cell_type": "code",
   "execution_count": 2,
   "metadata": {
    "scrolled": true
   },
   "outputs": [
    {
     "name": "stdout",
     "output_type": "stream",
     "text": [
      "user_table:\n",
      "\n",
      "   user_id         city country    lat    long\n",
      "0   510335      Peabody     USA  42.53  -70.97\n",
      "1    89568         Reno     USA  39.54 -119.82\n",
      "2   434134       Rialto     USA  34.11 -117.39\n",
      "3   289769  Carson City     USA  39.15 -119.74\n",
      "4   939586      Chicago     USA  41.84  -87.68\n",
      "\n",
      "user_table missing value:\n",
      "\n",
      "user_id    0\n",
      "city       0\n",
      "country    0\n",
      "lat        0\n",
      "long       0\n",
      "dtype: int64\n"
     ]
    }
   ],
   "source": [
    "print('user_table:\\n')\n",
    "print(user_table.head())\n",
    "# user_table.info()\n",
    "# user_table.describe()\n",
    "\n",
    "print('\\nuser_table missing value:\\n')\n",
    "print(user_table.isnull().sum())\n",
    "# sns.heatmap(user_table.isnull(),yticklabels=False,cbar=False)"
   ]
  },
  {
   "cell_type": "markdown",
   "metadata": {},
   "source": [
    "*Note: no missing data*"
   ]
  },
  {
   "cell_type": "code",
   "execution_count": 3,
   "metadata": {
    "scrolled": true
   },
   "outputs": [
    {
     "name": "stdout",
     "output_type": "stream",
     "text": [
      "column \"country\" and \"city\":\n",
      "\n",
      "country  city                    \n",
      "USA      New York                    25748\n",
      "         Chicago                      7153\n",
      "         Houston                      6706\n",
      "         San Antonio                  4633\n",
      "         Los Angeles                  4141\n",
      "         San Jose                     3354\n",
      "         Indianapolis                 3217\n",
      "         Jacksonville                 2905\n",
      "         Philadelphia                 2541\n",
      "         Las Vegas                    2426\n",
      "         Austin                       2292\n",
      "         Seattle                      2204\n",
      "         Oklahoma City                1796\n",
      "         Charlotte                    1768\n",
      "         Tucson                       1732\n",
      "         Virginia Beach               1712\n",
      "         Oakland                      1686\n",
      "         Nashville                    1581\n",
      "         Mesa                         1557\n",
      "         Memphis                      1540\n",
      "         Minneapolis                  1466\n",
      "         Fort Worth                   1429\n",
      "         Buffalo                      1303\n",
      "         Raleigh                      1293\n",
      "         New Orleans                  1263\n",
      "         Springfield                  1246\n",
      "         Tampa                        1217\n",
      "         Dallas                       1207\n",
      "         Detroit                      1178\n",
      "         Plano                        1079\n",
      "                                     ...  \n",
      "         Findlay                         9\n",
      "         Margate                         9\n",
      "         Monroe                          9\n",
      "         Schaumburg                      9\n",
      "         Southglenn                      9\n",
      "         West Babylon                    9\n",
      "         Blacksburg                      8\n",
      "         Rancho Santa Margarita          8\n",
      "         Dothan                          7\n",
      "         Petaluma                        7\n",
      "         Rowlett                         7\n",
      "         Saint Charles                   7\n",
      "         Seattle Hill-Silver Firs        7\n",
      "         Montclair                       6\n",
      "         Waterloo                        6\n",
      "         West Hartford                   6\n",
      "         Cedar Rapids                    5\n",
      "         Little Rock                     5\n",
      "         North Atlanta                   5\n",
      "         Penn Hills                      4\n",
      "         Albuquerque                     3\n",
      "         Baltimore                       3\n",
      "         Delray Beach                    3\n",
      "         Kingsport                       3\n",
      "         Tustin                          2\n",
      "         Cerritos                        1\n",
      "         Costa Mesa                      1\n",
      "         East Lake                       1\n",
      "         New Milford                     1\n",
      "         Ocala                           1\n",
      "Name: city, Length: 923, dtype: int64\n"
     ]
    }
   ],
   "source": [
    "print('column \"country\" and \"city\":\\n')\n",
    "print(user_table.groupby('country')['city'].value_counts())\n",
    "# user_table.groupby('city')['user_id'].count().sort_values(ascending=False)\n",
    "# user_table.groupby('country')['user_id'].count()"
   ]
  },
  {
   "cell_type": "code",
   "execution_count": 4,
   "metadata": {},
   "outputs": [
    {
     "name": "stdout",
     "output_type": "stream",
     "text": [
      "Unique City numbers are:  923\n"
     ]
    }
   ],
   "source": [
    "print('Unique City numbers are: ', user_table['city'].nunique())\n",
    "city_head99 = user_table.groupby('city')['user_id'].count().sort_values(ascending=False).to_frame().head(99)\n",
    "city_head99_list = city_head99.index.to_list()"
   ]
  },
  {
   "cell_type": "code",
   "execution_count": 5,
   "metadata": {},
   "outputs": [
    {
     "name": "stdout",
     "output_type": "stream",
     "text": [
      "Unique City numbers drop to:  100\n"
     ]
    }
   ],
   "source": [
    "user_table['city'] = user_table['city'].apply(lambda x:'Other' if x not in city_head99_list else x)\n",
    "print('Unique City numbers drop to: ', user_table['city'].nunique())"
   ]
  },
  {
   "cell_type": "code",
   "execution_count": 6,
   "metadata": {},
   "outputs": [
    {
     "data": {
      "image/png": "[encoded data removed]",
      "text/plain": [
       "<Figure size 432x288 with 1 Axes>"
      ]
     },
     "metadata": {
      "needs_background": "light"
     },
     "output_type": "display_data"
    }
   ],
   "source": [
    "plt.title('column \"lat\"')\n",
    "user_table['lat'].hist()\n",
    "plt.show()"
   ]
  },
  {
   "cell_type": "code",
   "execution_count": 7,
   "metadata": {},
   "outputs": [
    {
     "data": {
      "image/png": "[encoded data removed]",
      "text/plain": [
       "<Figure size 432x288 with 1 Axes>"
      ]
     },
     "metadata": {
      "needs_background": "light"
     },
     "output_type": "display_data"
    }
   ],
   "source": [
    "plt.title('column \"long\"')\n",
    "user_table['long'].hist()\n",
    "plt.show()"
   ]
  },
  {
   "cell_type": "markdown",
   "metadata": {},
   "source": [
    "*Note: look good*"
   ]
  },
  {
   "cell_type": "markdown",
   "metadata": {},
   "source": [
    "### Table: test_results"
   ]
  },
  {
   "cell_type": "code",
   "execution_count": 8,
   "metadata": {},
   "outputs": [
    {
     "name": "stdout",
     "output_type": "stream",
     "text": [
      "test_results:\n",
      "\n",
      "   user_id            timestamp          source  device operative_system  \\\n",
      "0   604839  2015-05-08 03:38:34    ads_facebook  mobile              iOS   \n",
      "1   624057  2015-05-10 21:08:46      seo-google  mobile          android   \n",
      "2   317970  2015-04-04 15:01:23        ads-bing  mobile          android   \n",
      "3   685636  2015-05-07 07:26:01  direct_traffic  mobile              iOS   \n",
      "4   820854  2015-05-24 11:04:40    ads_facebook     web              mac   \n",
      "\n",
      "   test  price  converted  \n",
      "0     0   39.0          0  \n",
      "1     0   39.0          0  \n",
      "2     0   39.0          0  \n",
      "3     1   59.0          0  \n",
      "4     0   39.0          0  \n",
      "\n",
      "test_results missing value:\n",
      "\n",
      "user_id                 0\n",
      "timestamp             334\n",
      "source                312\n",
      "device                  0\n",
      "operative_system    20339\n",
      "test                    0\n",
      "price                   0\n",
      "converted               0\n",
      "dtype: int64\n"
     ]
    }
   ],
   "source": [
    "print('test_results:\\n')\n",
    "print(test_results.head())\n",
    "# test_results.info()\n",
    "# test_results.describe()\n",
    "\n",
    "print('\\ntest_results missing value:\\n')\n",
    "print(test_results.isnull().sum())"
   ]
  },
  {
   "cell_type": "markdown",
   "metadata": {},
   "source": [
    "*Note: three columns have missing values*"
   ]
  },
  {
   "cell_type": "code",
   "execution_count": 9,
   "metadata": {},
   "outputs": [
    {
     "data": {
      "text/html": [
       "<div>\n",
       "<style scoped>\n",
       "    .dataframe tbody tr th:only-of-type {\n",
       "        vertical-align: middle;\n",
       "    }\n",
       "\n",
       "    .dataframe tbody tr th {\n",
       "        vertical-align: top;\n",
       "    }\n",
       "\n",
       "    .dataframe thead th {\n",
       "        text-align: right;\n",
       "    }\n",
       "</style>\n",
       "<table border=\"1\" class=\"dataframe\">\n",
       "  <thead>\n",
       "    <tr style=\"text-align: right;\">\n",
       "      <th></th>\n",
       "      <th>column</th>\n",
       "      <th>N Missing</th>\n",
       "      <th>% Missing</th>\n",
       "    </tr>\n",
       "  </thead>\n",
       "  <tbody>\n",
       "    <tr>\n",
       "      <th>0</th>\n",
       "      <td>user_id</td>\n",
       "      <td>0</td>\n",
       "      <td>0.000000</td>\n",
       "    </tr>\n",
       "    <tr>\n",
       "      <th>1</th>\n",
       "      <td>timestamp</td>\n",
       "      <td>334</td>\n",
       "      <td>0.001054</td>\n",
       "    </tr>\n",
       "    <tr>\n",
       "      <th>2</th>\n",
       "      <td>source</td>\n",
       "      <td>312</td>\n",
       "      <td>0.000985</td>\n",
       "    </tr>\n",
       "    <tr>\n",
       "      <th>3</th>\n",
       "      <td>device</td>\n",
       "      <td>0</td>\n",
       "      <td>0.000000</td>\n",
       "    </tr>\n",
       "    <tr>\n",
       "      <th>4</th>\n",
       "      <td>operative_system</td>\n",
       "      <td>20339</td>\n",
       "      <td>0.064201</td>\n",
       "    </tr>\n",
       "    <tr>\n",
       "      <th>5</th>\n",
       "      <td>test</td>\n",
       "      <td>0</td>\n",
       "      <td>0.000000</td>\n",
       "    </tr>\n",
       "    <tr>\n",
       "      <th>6</th>\n",
       "      <td>price</td>\n",
       "      <td>0</td>\n",
       "      <td>0.000000</td>\n",
       "    </tr>\n",
       "    <tr>\n",
       "      <th>7</th>\n",
       "      <td>converted</td>\n",
       "      <td>0</td>\n",
       "      <td>0.000000</td>\n",
       "    </tr>\n",
       "  </tbody>\n",
       "</table>\n",
       "</div>"
      ],
      "text/plain": [
       "             column  N Missing  % Missing\n",
       "0           user_id          0   0.000000\n",
       "1         timestamp        334   0.001054\n",
       "2            source        312   0.000985\n",
       "3            device          0   0.000000\n",
       "4  operative_system      20339   0.064201\n",
       "5              test          0   0.000000\n",
       "6             price          0   0.000000\n",
       "7         converted          0   0.000000"
      ]
     },
     "execution_count": 9,
     "metadata": {},
     "output_type": "execute_result"
    }
   ],
   "source": [
    "n_missing = test_results.isnull().sum()\n",
    "n_total = len(test_results)\n",
    "pct_missing = n_missing/n_total\n",
    "pd.DataFrame({'column':n_missing.index,'N Missing':n_missing.values,'% Missing':pct_missing.values})"
   ]
  },
  {
   "cell_type": "code",
   "execution_count": 10,
   "metadata": {},
   "outputs": [
    {
     "data": {
      "image/png": "[encoded data removed]",
      "text/plain": [
       "<Figure size 432x432 with 2 Axes>"
      ]
     },
     "metadata": {
      "needs_background": "light"
     },
     "output_type": "display_data"
    }
   ],
   "source": [
    "plt.figure(figsize=(6,6))\n",
    "sns.heatmap(test_results.isnull())\n",
    "plt.show()"
   ]
  },
  {
   "cell_type": "markdown",
   "metadata": {},
   "source": [
    "**Drop rows contain nans for column \"timestamp\" and \"source\"**"
   ]
  },
  {
   "cell_type": "code",
   "execution_count": 11,
   "metadata": {},
   "outputs": [
    {
     "data": {
      "text/plain": [
       "user_id                 0\n",
       "timestamp               0\n",
       "source                  0\n",
       "device                  0\n",
       "operative_system    20313\n",
       "test                    0\n",
       "price                   0\n",
       "converted               0\n",
       "dtype: int64"
      ]
     },
     "execution_count": 11,
     "metadata": {},
     "output_type": "execute_result"
    }
   ],
   "source": [
    "test_results.dropna(subset=['timestamp','source'],inplace=True)\n",
    "test_results.isnull().sum()"
   ]
  },
  {
   "cell_type": "code",
   "execution_count": 12,
   "metadata": {},
   "outputs": [
    {
     "name": "stdout",
     "output_type": "stream",
     "text": [
      "column \"operative_system\":\n",
      "\n",
      "operative_system\n",
      "windows    100667\n",
      "iOS         95162\n",
      "android     74692\n",
      "mac         25002\n",
      "i0S           113\n",
      "wnddows        98\n",
      "anroid         78\n",
      "apple          29\n",
      "Name: user_id, dtype: int64\n"
     ]
    }
   ],
   "source": [
    "print('column \"operative_system\":\\n')\n",
    "print(test_results.groupby('operative_system')['user_id'].count().sort_values(ascending=False))"
   ]
  },
  {
   "cell_type": "markdown",
   "metadata": {},
   "source": [
    "**Correct Operative System Types**  \n",
    "* mac OS\n",
    "* iOS\n",
    "* android\n",
    "* windows"
   ]
  },
  {
   "cell_type": "code",
   "execution_count": 13,
   "metadata": {},
   "outputs": [
    {
     "name": "stdout",
     "output_type": "stream",
     "text": [
      "corrected \"operative_system\":\n",
      "\n",
      "operative_system\n",
      "windows    100765\n",
      "iOS         95275\n",
      "android     74770\n",
      "macOS       25031\n",
      "nan         20313\n",
      "Name: user_id, dtype: int64\n"
     ]
    }
   ],
   "source": [
    "test_results['operative_system'] = test_results['operative_system'].astype(str).apply(\n",
    "    lambda  x:x.replace('i0S','iOS').\n",
    "                replace('wnddows','windows').\n",
    "                replace('anroid','android').\n",
    "                replace('mac','macOS').\n",
    "                replace('apple','macOS'))\n",
    "\n",
    "print('corrected \"operative_system\":\\n')\n",
    "print(test_results.groupby('operative_system')['user_id'].count().sort_values(ascending=False))"
   ]
  },
  {
   "cell_type": "code",
   "execution_count": 14,
   "metadata": {},
   "outputs": [
    {
     "name": "stdout",
     "output_type": "stream",
     "text": [
      "column \"device\":\n",
      "\n",
      "device  operative_system\n",
      "mobile  iOS                  95275\n",
      "        android              74770\n",
      "        nan                  16047\n",
      "web     windows             100765\n",
      "        macOS                25031\n",
      "        nan                   4266\n",
      "Name: operative_system, dtype: int64\n",
      "\n",
      "column \"source\":\n",
      "\n",
      "device            mobile                web             \n",
      "operative_system android    iOS   nan macOS  nan windows\n",
      "source                                                  \n",
      "ads-bing            5366   6909  1234  1723  274    7325\n",
      "ads-google         13870  18118  2837  4705  891   18841\n",
      "ads-yahoo           1761   2300   367   583   97    2454\n",
      "ads_facebook       12381  16447  2788  4231  663   16770\n",
      "ads_other           7035   8720  1565  2437  404    9649\n",
      "direct_traffic     14622  18002  3083  4659  747   19126\n",
      "friend_referral     4814   6321   887  1739  372    6521\n",
      "seo-bing             496    708    97   163   13     669\n",
      "seo-google          5532   6874  1292  1921  279    7237\n",
      "seo-other           2141   2716   431   739  130    3082\n",
      "seo-yahoo           1713   1996   321   522   99    2181\n",
      "seo_facebook        5039   6164  1145  1609  297    6910\n"
     ]
    }
   ],
   "source": [
    "print('column \"device\":\\n')\n",
    "print(test_results.groupby('device')['operative_system'].value_counts())\n",
    "\n",
    "print('\\ncolumn \"source\":\\n')\n",
    "print(pd.pivot_table(test_results,values='user_id',index='source',columns=['device','operative_system'],aggfunc='count'))"
   ]
  },
  {
   "cell_type": "markdown",
   "metadata": {},
   "source": [
    "**Drop rows contain nans for column \"operative_system\"**\n",
    "\n",
    "*replace \"nan\" under \"mobile\" as \"mobile_x\"?*  \n",
    "*replace \"nan\" under \"web\" as \"web_x\"?*"
   ]
  },
  {
   "cell_type": "code",
   "execution_count": 15,
   "metadata": {},
   "outputs": [
    {
     "data": {
      "text/plain": [
       "device  operative_system\n",
       "mobile  iOS                  95275\n",
       "        android              74770\n",
       "web     windows             100765\n",
       "        macOS                25031\n",
       "Name: operative_system, dtype: int64"
      ]
     },
     "execution_count": 15,
     "metadata": {},
     "output_type": "execute_result"
    }
   ],
   "source": [
    "# test_results.dropna(subset=['operative_system'],inplace=True)\n",
    "test_results = test_results[test_results['operative_system'] != 'nan']\n",
    "test_results.groupby('device')['operative_system'].value_counts()"
   ]
  },
  {
   "cell_type": "code",
   "execution_count": 16,
   "metadata": {},
   "outputs": [
    {
     "name": "stdout",
     "output_type": "stream",
     "text": [
      "column \"price\":\n",
      "\n",
      "AxesSubplot(0.125,0.125;0.775x0.755)\n"
     ]
    },
    {
     "data": {
      "image/png": "[encoded data removed]",
      "text/plain": [
       "<Figure size 432x288 with 1 Axes>"
      ]
     },
     "metadata": {
      "needs_background": "light"
     },
     "output_type": "display_data"
    }
   ],
   "source": [
    "print('column \"price\":\\n')\n",
    "print(test_results['price'].hist())"
   ]
  },
  {
   "cell_type": "markdown",
   "metadata": {},
   "source": [
    "*Note:  \n",
    "\"test: whether the user was in the test (i.e. 1 -> higher price) or in control (0 -> old, lower price)  \n",
    "price: the price the user sees. It should match test\"  \n",
    "0 -> 39  \n",
    "1 -> 59*"
   ]
  },
  {
   "cell_type": "code",
   "execution_count": 17,
   "metadata": {
    "scrolled": true
   },
   "outputs": [
    {
     "data": {
      "text/html": [
       "<div>\n",
       "<style scoped>\n",
       "    .dataframe tbody tr th:only-of-type {\n",
       "        vertical-align: middle;\n",
       "    }\n",
       "\n",
       "    .dataframe tbody tr th {\n",
       "        vertical-align: top;\n",
       "    }\n",
       "\n",
       "    .dataframe thead th {\n",
       "        text-align: right;\n",
       "    }\n",
       "</style>\n",
       "<table border=\"1\" class=\"dataframe\">\n",
       "  <thead>\n",
       "    <tr style=\"text-align: right;\">\n",
       "      <th>test</th>\n",
       "      <th>0</th>\n",
       "      <th>1</th>\n",
       "    </tr>\n",
       "    <tr>\n",
       "      <th>price</th>\n",
       "      <th></th>\n",
       "      <th></th>\n",
       "    </tr>\n",
       "  </thead>\n",
       "  <tbody>\n",
       "    <tr>\n",
       "      <th>39.0</th>\n",
       "      <td>187661.0</td>\n",
       "      <td>141.0</td>\n",
       "    </tr>\n",
       "    <tr>\n",
       "      <th>59.0</th>\n",
       "      <td>187.0</td>\n",
       "      <td>105004.0</td>\n",
       "    </tr>\n",
       "    <tr>\n",
       "      <th>324680531.0</th>\n",
       "      <td>1.0</td>\n",
       "      <td>NaN</td>\n",
       "    </tr>\n",
       "    <tr>\n",
       "      <th>325355094.0</th>\n",
       "      <td>1.0</td>\n",
       "      <td>NaN</td>\n",
       "    </tr>\n",
       "    <tr>\n",
       "      <th>325373202.0</th>\n",
       "      <td>1.0</td>\n",
       "      <td>NaN</td>\n",
       "    </tr>\n",
       "    <tr>\n",
       "      <th>326160834.0</th>\n",
       "      <td>NaN</td>\n",
       "      <td>1.0</td>\n",
       "    </tr>\n",
       "    <tr>\n",
       "      <th>326183619.0</th>\n",
       "      <td>NaN</td>\n",
       "      <td>1.0</td>\n",
       "    </tr>\n",
       "    <tr>\n",
       "      <th>326312463.0</th>\n",
       "      <td>1.0</td>\n",
       "      <td>NaN</td>\n",
       "    </tr>\n",
       "    <tr>\n",
       "      <th>326480681.0</th>\n",
       "      <td>1.0</td>\n",
       "      <td>NaN</td>\n",
       "    </tr>\n",
       "    <tr>\n",
       "      <th>326609905.0</th>\n",
       "      <td>NaN</td>\n",
       "      <td>1.0</td>\n",
       "    </tr>\n",
       "    <tr>\n",
       "      <th>326967046.0</th>\n",
       "      <td>NaN</td>\n",
       "      <td>1.0</td>\n",
       "    </tr>\n",
       "    <tr>\n",
       "      <th>327040350.0</th>\n",
       "      <td>NaN</td>\n",
       "      <td>1.0</td>\n",
       "    </tr>\n",
       "    <tr>\n",
       "      <th>327103028.0</th>\n",
       "      <td>1.0</td>\n",
       "      <td>NaN</td>\n",
       "    </tr>\n",
       "    <tr>\n",
       "      <th>327414628.0</th>\n",
       "      <td>1.0</td>\n",
       "      <td>NaN</td>\n",
       "    </tr>\n",
       "    <tr>\n",
       "      <th>327503420.0</th>\n",
       "      <td>1.0</td>\n",
       "      <td>NaN</td>\n",
       "    </tr>\n",
       "    <tr>\n",
       "      <th>327608135.0</th>\n",
       "      <td>1.0</td>\n",
       "      <td>NaN</td>\n",
       "    </tr>\n",
       "    <tr>\n",
       "      <th>327707381.0</th>\n",
       "      <td>1.0</td>\n",
       "      <td>NaN</td>\n",
       "    </tr>\n",
       "    <tr>\n",
       "      <th>328362948.0</th>\n",
       "      <td>NaN</td>\n",
       "      <td>1.0</td>\n",
       "    </tr>\n",
       "    <tr>\n",
       "      <th>328438381.0</th>\n",
       "      <td>NaN</td>\n",
       "      <td>1.0</td>\n",
       "    </tr>\n",
       "    <tr>\n",
       "      <th>328483136.0</th>\n",
       "      <td>1.0</td>\n",
       "      <td>NaN</td>\n",
       "    </tr>\n",
       "    <tr>\n",
       "      <th>328642695.0</th>\n",
       "      <td>1.0</td>\n",
       "      <td>NaN</td>\n",
       "    </tr>\n",
       "    <tr>\n",
       "      <th>328710782.0</th>\n",
       "      <td>NaN</td>\n",
       "      <td>1.0</td>\n",
       "    </tr>\n",
       "    <tr>\n",
       "      <th>328848755.0</th>\n",
       "      <td>1.0</td>\n",
       "      <td>NaN</td>\n",
       "    </tr>\n",
       "    <tr>\n",
       "      <th>328952609.0</th>\n",
       "      <td>1.0</td>\n",
       "      <td>NaN</td>\n",
       "    </tr>\n",
       "    <tr>\n",
       "      <th>329315601.0</th>\n",
       "      <td>NaN</td>\n",
       "      <td>1.0</td>\n",
       "    </tr>\n",
       "    <tr>\n",
       "      <th>329341431.0</th>\n",
       "      <td>NaN</td>\n",
       "      <td>1.0</td>\n",
       "    </tr>\n",
       "    <tr>\n",
       "      <th>329490915.0</th>\n",
       "      <td>1.0</td>\n",
       "      <td>NaN</td>\n",
       "    </tr>\n",
       "    <tr>\n",
       "      <th>329838588.0</th>\n",
       "      <td>1.0</td>\n",
       "      <td>NaN</td>\n",
       "    </tr>\n",
       "    <tr>\n",
       "      <th>330058538.0</th>\n",
       "      <td>1.0</td>\n",
       "      <td>NaN</td>\n",
       "    </tr>\n",
       "    <tr>\n",
       "      <th>330330166.0</th>\n",
       "      <td>1.0</td>\n",
       "      <td>NaN</td>\n",
       "    </tr>\n",
       "    <tr>\n",
       "      <th>...</th>\n",
       "      <td>...</td>\n",
       "      <td>...</td>\n",
       "    </tr>\n",
       "    <tr>\n",
       "      <th>991975658.0</th>\n",
       "      <td>1.0</td>\n",
       "      <td>NaN</td>\n",
       "    </tr>\n",
       "    <tr>\n",
       "      <th>992031140.0</th>\n",
       "      <td>1.0</td>\n",
       "      <td>NaN</td>\n",
       "    </tr>\n",
       "    <tr>\n",
       "      <th>992132113.0</th>\n",
       "      <td>NaN</td>\n",
       "      <td>1.0</td>\n",
       "    </tr>\n",
       "    <tr>\n",
       "      <th>992456383.0</th>\n",
       "      <td>1.0</td>\n",
       "      <td>NaN</td>\n",
       "    </tr>\n",
       "    <tr>\n",
       "      <th>992815628.0</th>\n",
       "      <td>1.0</td>\n",
       "      <td>NaN</td>\n",
       "    </tr>\n",
       "    <tr>\n",
       "      <th>993134018.0</th>\n",
       "      <td>1.0</td>\n",
       "      <td>NaN</td>\n",
       "    </tr>\n",
       "    <tr>\n",
       "      <th>993823938.0</th>\n",
       "      <td>1.0</td>\n",
       "      <td>NaN</td>\n",
       "    </tr>\n",
       "    <tr>\n",
       "      <th>994181028.0</th>\n",
       "      <td>1.0</td>\n",
       "      <td>NaN</td>\n",
       "    </tr>\n",
       "    <tr>\n",
       "      <th>994461445.0</th>\n",
       "      <td>1.0</td>\n",
       "      <td>NaN</td>\n",
       "    </tr>\n",
       "    <tr>\n",
       "      <th>994635400.0</th>\n",
       "      <td>NaN</td>\n",
       "      <td>1.0</td>\n",
       "    </tr>\n",
       "    <tr>\n",
       "      <th>994926842.0</th>\n",
       "      <td>1.0</td>\n",
       "      <td>NaN</td>\n",
       "    </tr>\n",
       "    <tr>\n",
       "      <th>995587404.0</th>\n",
       "      <td>NaN</td>\n",
       "      <td>1.0</td>\n",
       "    </tr>\n",
       "    <tr>\n",
       "      <th>995592228.0</th>\n",
       "      <td>1.0</td>\n",
       "      <td>NaN</td>\n",
       "    </tr>\n",
       "    <tr>\n",
       "      <th>995723160.0</th>\n",
       "      <td>NaN</td>\n",
       "      <td>1.0</td>\n",
       "    </tr>\n",
       "    <tr>\n",
       "      <th>995937831.0</th>\n",
       "      <td>1.0</td>\n",
       "      <td>NaN</td>\n",
       "    </tr>\n",
       "    <tr>\n",
       "      <th>996076688.0</th>\n",
       "      <td>1.0</td>\n",
       "      <td>NaN</td>\n",
       "    </tr>\n",
       "    <tr>\n",
       "      <th>996463719.0</th>\n",
       "      <td>1.0</td>\n",
       "      <td>NaN</td>\n",
       "    </tr>\n",
       "    <tr>\n",
       "      <th>996595553.0</th>\n",
       "      <td>1.0</td>\n",
       "      <td>NaN</td>\n",
       "    </tr>\n",
       "    <tr>\n",
       "      <th>996601770.0</th>\n",
       "      <td>NaN</td>\n",
       "      <td>1.0</td>\n",
       "    </tr>\n",
       "    <tr>\n",
       "      <th>996766416.0</th>\n",
       "      <td>1.0</td>\n",
       "      <td>NaN</td>\n",
       "    </tr>\n",
       "    <tr>\n",
       "      <th>997283584.0</th>\n",
       "      <td>1.0</td>\n",
       "      <td>NaN</td>\n",
       "    </tr>\n",
       "    <tr>\n",
       "      <th>997418660.0</th>\n",
       "      <td>1.0</td>\n",
       "      <td>NaN</td>\n",
       "    </tr>\n",
       "    <tr>\n",
       "      <th>997422093.0</th>\n",
       "      <td>1.0</td>\n",
       "      <td>NaN</td>\n",
       "    </tr>\n",
       "    <tr>\n",
       "      <th>997608888.0</th>\n",
       "      <td>1.0</td>\n",
       "      <td>NaN</td>\n",
       "    </tr>\n",
       "    <tr>\n",
       "      <th>997796945.0</th>\n",
       "      <td>NaN</td>\n",
       "      <td>1.0</td>\n",
       "    </tr>\n",
       "    <tr>\n",
       "      <th>998765098.0</th>\n",
       "      <td>NaN</td>\n",
       "      <td>1.0</td>\n",
       "    </tr>\n",
       "    <tr>\n",
       "      <th>999139431.0</th>\n",
       "      <td>1.0</td>\n",
       "      <td>NaN</td>\n",
       "    </tr>\n",
       "    <tr>\n",
       "      <th>999173836.0</th>\n",
       "      <td>1.0</td>\n",
       "      <td>NaN</td>\n",
       "    </tr>\n",
       "    <tr>\n",
       "      <th>999762858.0</th>\n",
       "      <td>NaN</td>\n",
       "      <td>1.0</td>\n",
       "    </tr>\n",
       "    <tr>\n",
       "      <th>999884279.0</th>\n",
       "      <td>1.0</td>\n",
       "      <td>NaN</td>\n",
       "    </tr>\n",
       "  </tbody>\n",
       "</table>\n",
       "<p>2850 rows × 2 columns</p>\n",
       "</div>"
      ],
      "text/plain": [
       "test                0         1\n",
       "price                          \n",
       "39.0         187661.0     141.0\n",
       "59.0            187.0  105004.0\n",
       "324680531.0       1.0       NaN\n",
       "325355094.0       1.0       NaN\n",
       "325373202.0       1.0       NaN\n",
       "326160834.0       NaN       1.0\n",
       "326183619.0       NaN       1.0\n",
       "326312463.0       1.0       NaN\n",
       "326480681.0       1.0       NaN\n",
       "326609905.0       NaN       1.0\n",
       "326967046.0       NaN       1.0\n",
       "327040350.0       NaN       1.0\n",
       "327103028.0       1.0       NaN\n",
       "327414628.0       1.0       NaN\n",
       "327503420.0       1.0       NaN\n",
       "327608135.0       1.0       NaN\n",
       "327707381.0       1.0       NaN\n",
       "328362948.0       NaN       1.0\n",
       "328438381.0       NaN       1.0\n",
       "328483136.0       1.0       NaN\n",
       "328642695.0       1.0       NaN\n",
       "328710782.0       NaN       1.0\n",
       "328848755.0       1.0       NaN\n",
       "328952609.0       1.0       NaN\n",
       "329315601.0       NaN       1.0\n",
       "329341431.0       NaN       1.0\n",
       "329490915.0       1.0       NaN\n",
       "329838588.0       1.0       NaN\n",
       "330058538.0       1.0       NaN\n",
       "330330166.0       1.0       NaN\n",
       "...               ...       ...\n",
       "991975658.0       1.0       NaN\n",
       "992031140.0       1.0       NaN\n",
       "992132113.0       NaN       1.0\n",
       "992456383.0       1.0       NaN\n",
       "992815628.0       1.0       NaN\n",
       "993134018.0       1.0       NaN\n",
       "993823938.0       1.0       NaN\n",
       "994181028.0       1.0       NaN\n",
       "994461445.0       1.0       NaN\n",
       "994635400.0       NaN       1.0\n",
       "994926842.0       1.0       NaN\n",
       "995587404.0       NaN       1.0\n",
       "995592228.0       1.0       NaN\n",
       "995723160.0       NaN       1.0\n",
       "995937831.0       1.0       NaN\n",
       "996076688.0       1.0       NaN\n",
       "996463719.0       1.0       NaN\n",
       "996595553.0       1.0       NaN\n",
       "996601770.0       NaN       1.0\n",
       "996766416.0       1.0       NaN\n",
       "997283584.0       1.0       NaN\n",
       "997418660.0       1.0       NaN\n",
       "997422093.0       1.0       NaN\n",
       "997608888.0       1.0       NaN\n",
       "997796945.0       NaN       1.0\n",
       "998765098.0       NaN       1.0\n",
       "999139431.0       1.0       NaN\n",
       "999173836.0       1.0       NaN\n",
       "999762858.0       NaN       1.0\n",
       "999884279.0       1.0       NaN\n",
       "\n",
       "[2850 rows x 2 columns]"
      ]
     },
     "execution_count": 17,
     "metadata": {},
     "output_type": "execute_result"
    }
   ],
   "source": [
    "pd.pivot_table(test_results,values='user_id',index='price',columns=['test'],aggfunc='count')\n",
    "# test_results.groupby('price')['user_id'].count().sort_values(ascending=False)"
   ]
  },
  {
   "cell_type": "markdown",
   "metadata": {},
   "source": [
    "**Drop old \"price\" and create a new one**"
   ]
  },
  {
   "cell_type": "code",
   "execution_count": 18,
   "metadata": {},
   "outputs": [
    {
     "data": {
      "image/png": "[encoded data removed]",
      "text/plain": [
       "<Figure size 432x288 with 1 Axes>"
      ]
     },
     "metadata": {
      "needs_background": "light"
     },
     "output_type": "display_data"
    }
   ],
   "source": [
    "test_results['price'] = test_results['test'].apply(lambda x:39 if x==0 else 59)\n",
    "plt.title('corrected price')\n",
    "test_results['price'].hist()\n",
    "plt.show()"
   ]
  },
  {
   "cell_type": "code",
   "execution_count": 19,
   "metadata": {},
   "outputs": [
    {
     "name": "stdout",
     "output_type": "stream",
     "text": [
      "column \"timestamp\":\n",
      "\n",
      "0    2015-05-08 03:38:34\n",
      "1    2015-05-10 21:08:46\n",
      "2    2015-04-04 15:01:23\n",
      "3    2015-05-07 07:26:01\n",
      "4    2015-05-24 11:04:40\n",
      "Name: timestamp, dtype: object\n"
     ]
    }
   ],
   "source": [
    "print('column \"timestamp\":\\n')\n",
    "print(test_results['timestamp'].head())"
   ]
  },
  {
   "cell_type": "markdown",
   "metadata": {},
   "source": [
    "**create column \"year\", \"month\", and \"day\"**"
   ]
  },
  {
   "cell_type": "code",
   "execution_count": 20,
   "metadata": {},
   "outputs": [
    {
     "name": "stdout",
     "output_type": "stream",
     "text": [
      "column \"year\":\n",
      "\n"
     ]
    },
    {
     "data": {
      "text/plain": [
       "2015    295546\n",
       "2815       295\n",
       "Name: year, dtype: int64"
      ]
     },
     "execution_count": 20,
     "metadata": {},
     "output_type": "execute_result"
    }
   ],
   "source": [
    "test_results['year'] = test_results['timestamp'].apply(\n",
    "    lambda s: int(s.split('-')[0]))\n",
    "test_results['month'] = test_results['timestamp'].apply(\n",
    "    lambda s: int(s.split('-')[1]))\n",
    "test_results['day'] = test_results['timestamp'].apply(\n",
    "    lambda s: int(s.split('-')[2].split(' ')[0]))\n",
    "\n",
    "print('column \"year\":\\n')\n",
    "test_results['year'].value_counts()"
   ]
  },
  {
   "cell_type": "markdown",
   "metadata": {},
   "source": [
    "*Note: Issue found, \"2815\" seems like a typo of \"2015\". Only one year worth of values, can drop it later*"
   ]
  },
  {
   "cell_type": "markdown",
   "metadata": {},
   "source": [
    "**correct \"year\"**"
   ]
  },
  {
   "cell_type": "code",
   "execution_count": 21,
   "metadata": {},
   "outputs": [
    {
     "data": {
      "text/plain": [
       "2015    295841\n",
       "Name: year, dtype: int64"
      ]
     },
     "execution_count": 21,
     "metadata": {},
     "output_type": "execute_result"
    }
   ],
   "source": [
    "test_results['year'] = 2015\n",
    "test_results['year'].value_counts()"
   ]
  },
  {
   "cell_type": "code",
   "execution_count": 22,
   "metadata": {
    "scrolled": true
   },
   "outputs": [
    {
     "name": "stdout",
     "output_type": "stream",
     "text": [
      "column \"month\" and \"day\":\n",
      "\n",
      "month       3       4       5\n",
      "day                          \n",
      "1         NaN  1333.0  6647.0\n",
      "2      1494.0  2694.0  5145.0\n",
      "3      1407.0  6465.0  4005.0\n",
      "4      1312.0  5432.0  1362.0\n",
      "5      2630.0  3884.0  1489.0\n",
      "6      6769.0  1317.0  1328.0\n",
      "7      5341.0  1529.0  2674.0\n",
      "8      4221.0  1421.0  6561.0\n",
      "9      1377.0  2780.0  5387.0\n",
      "10     1433.0  6612.0  4033.0\n",
      "11     1258.0  5287.0  1323.0\n",
      "12     2707.0  4240.0  1389.0\n",
      "13     6707.0  1364.0  1391.0\n",
      "14     5401.0  1416.0  2596.0\n",
      "15     3773.0  1361.0  6801.0\n",
      "16     1302.0  2661.0  5244.0\n",
      "17     1410.0  6678.0  3930.0\n",
      "18     1367.0  5190.0  1425.0\n",
      "19     2632.0  4012.0  1426.0\n",
      "20     6810.0  1301.0  1269.0\n",
      "21     5454.0  1391.0  2561.0\n",
      "22     3932.0  1419.0  6510.0\n",
      "23     1386.0  2609.0  5401.0\n",
      "24     1357.0  6654.0  3901.0\n",
      "25     1491.0  5318.0  1312.0\n",
      "26     2752.0  3853.0  1403.0\n",
      "27     6626.0  1530.0  1223.0\n",
      "28     5323.0  1404.0  2785.0\n",
      "29     4020.0  1379.0  6532.0\n",
      "30     1399.0  2628.0  5389.0\n",
      "31     1227.0     NaN  3919.0\n"
     ]
    }
   ],
   "source": [
    "print('column \"month\" and \"day\":\\n')\n",
    "print(pd.pivot_table(test_results,values='user_id',index='day',columns='month',aggfunc='count'))"
   ]
  },
  {
   "cell_type": "markdown",
   "metadata": {},
   "source": [
    "*Note: look good*"
   ]
  },
  {
   "cell_type": "markdown",
   "metadata": {},
   "source": [
    "**create column \"datestamp\"**"
   ]
  },
  {
   "cell_type": "code",
   "execution_count": 23,
   "metadata": {
    "scrolled": true
   },
   "outputs": [
    {
     "data": {
      "text/plain": [
       "0    2015-05-08\n",
       "1    2015-05-10\n",
       "2    2015-04-04\n",
       "3    2015-05-07\n",
       "4    2015-05-24\n",
       "Name: datestamp, dtype: object"
      ]
     },
     "execution_count": 23,
     "metadata": {},
     "output_type": "execute_result"
    }
   ],
   "source": [
    "from datetime import datetime\n",
    "test_results['datestamp'] = test_results.apply(\n",
    "    lambda row:\n",
    "    #datetime.strptime(\n",
    "        str(row['year'])+'-'+str(row['month']).zfill(2)+'-'+str(row['day']).zfill(2)\n",
    "        #,'%Y-%d-%m')\n",
    "    , axis = 1)\n",
    "test_results['datestamp'].head()"
   ]
  },
  {
   "cell_type": "markdown",
   "metadata": {},
   "source": [
    "*Note: column \"minutes\" and \"seconds\" have invalid value \"60\"*"
   ]
  },
  {
   "cell_type": "code",
   "execution_count": 24,
   "metadata": {
    "scrolled": true
   },
   "outputs": [
    {
     "data": {
      "text/html": [
       "<div>\n",
       "<style scoped>\n",
       "    .dataframe tbody tr th:only-of-type {\n",
       "        vertical-align: middle;\n",
       "    }\n",
       "\n",
       "    .dataframe tbody tr th {\n",
       "        vertical-align: top;\n",
       "    }\n",
       "\n",
       "    .dataframe thead th {\n",
       "        text-align: right;\n",
       "    }\n",
       "</style>\n",
       "<table border=\"1\" class=\"dataframe\">\n",
       "  <thead>\n",
       "    <tr style=\"text-align: right;\">\n",
       "      <th></th>\n",
       "      <th>converted0_test0</th>\n",
       "      <th>converted0_test1</th>\n",
       "      <th>converted1_test0</th>\n",
       "      <th>converted1_test1</th>\n",
       "      <th>test0_rate</th>\n",
       "      <th>test1_rate</th>\n",
       "    </tr>\n",
       "    <tr>\n",
       "      <th>datestamp</th>\n",
       "      <th></th>\n",
       "      <th></th>\n",
       "      <th></th>\n",
       "      <th></th>\n",
       "      <th></th>\n",
       "      <th></th>\n",
       "    </tr>\n",
       "  </thead>\n",
       "  <tbody>\n",
       "    <tr>\n",
       "      <th>2015-03-02</th>\n",
       "      <td>938</td>\n",
       "      <td>531</td>\n",
       "      <td>16</td>\n",
       "      <td>9</td>\n",
       "      <td>0.016771</td>\n",
       "      <td>0.016667</td>\n",
       "    </tr>\n",
       "    <tr>\n",
       "      <th>2015-03-03</th>\n",
       "      <td>851</td>\n",
       "      <td>530</td>\n",
       "      <td>20</td>\n",
       "      <td>6</td>\n",
       "      <td>0.022962</td>\n",
       "      <td>0.011194</td>\n",
       "    </tr>\n",
       "    <tr>\n",
       "      <th>2015-03-04</th>\n",
       "      <td>863</td>\n",
       "      <td>415</td>\n",
       "      <td>28</td>\n",
       "      <td>6</td>\n",
       "      <td>0.031425</td>\n",
       "      <td>0.014252</td>\n",
       "    </tr>\n",
       "    <tr>\n",
       "      <th>2015-03-05</th>\n",
       "      <td>1594</td>\n",
       "      <td>967</td>\n",
       "      <td>45</td>\n",
       "      <td>24</td>\n",
       "      <td>0.027456</td>\n",
       "      <td>0.024218</td>\n",
       "    </tr>\n",
       "    <tr>\n",
       "      <th>2015-03-06</th>\n",
       "      <td>4236</td>\n",
       "      <td>2412</td>\n",
       "      <td>79</td>\n",
       "      <td>42</td>\n",
       "      <td>0.018308</td>\n",
       "      <td>0.017115</td>\n",
       "    </tr>\n",
       "  </tbody>\n",
       "</table>\n",
       "</div>"
      ],
      "text/plain": [
       "            converted0_test0  converted0_test1  converted1_test0  \\\n",
       "datestamp                                                          \n",
       "2015-03-02               938               531                16   \n",
       "2015-03-03               851               530                20   \n",
       "2015-03-04               863               415                28   \n",
       "2015-03-05              1594               967                45   \n",
       "2015-03-06              4236              2412                79   \n",
       "\n",
       "            converted1_test1  test0_rate  test1_rate  \n",
       "datestamp                                             \n",
       "2015-03-02                 9    0.016771    0.016667  \n",
       "2015-03-03                 6    0.022962    0.011194  \n",
       "2015-03-04                 6    0.031425    0.014252  \n",
       "2015-03-05                24    0.027456    0.024218  \n",
       "2015-03-06                42    0.018308    0.017115  "
      ]
     },
     "execution_count": 24,
     "metadata": {},
     "output_type": "execute_result"
    }
   ],
   "source": [
    "cr_by_day = pd.DataFrame(\n",
    "    pd.pivot_table(test_results,index='datestamp',columns=['converted','test'],values='user_id',aggfunc='count'))\n",
    "cr_by_day.columns = cr_by_day.columns.droplevel(0)\n",
    "cr_by_day.columns.name = None\n",
    "cr_by_day.columns = ['converted0_test0','converted0_test1','converted1_test0','converted1_test1']\n",
    "cr_by_day['test0_rate'] = cr_by_day['converted1_test0']/(cr_by_day['converted1_test0']+cr_by_day['converted0_test0'])\n",
    "cr_by_day['test1_rate'] = cr_by_day['converted1_test1']/(cr_by_day['converted1_test1']+cr_by_day['converted0_test1'])\n",
    "cr_by_day.head()"
   ]
  },
  {
   "cell_type": "code",
   "execution_count": 25,
   "metadata": {},
   "outputs": [
    {
     "data": {
      "image/png": "[encoded data removed]",
      "text/plain": [
       "<Figure size 1152x576 with 1 Axes>"
      ]
     },
     "metadata": {
      "needs_background": "light"
     },
     "output_type": "display_data"
    }
   ],
   "source": [
    "cr_by_day[['test0_rate','test1_rate']].plot(title = 'convertion rate by day', figsize = (16, 8))\n",
    "plt.show()"
   ]
  },
  {
   "cell_type": "markdown",
   "metadata": {},
   "source": [
    "*Note: look like overall test group 0 has higher conversion rates*"
   ]
  },
  {
   "cell_type": "code",
   "execution_count": 26,
   "metadata": {},
   "outputs": [
    {
     "data": {
      "text/html": [
       "<div>\n",
       "<style scoped>\n",
       "    .dataframe tbody tr th:only-of-type {\n",
       "        vertical-align: middle;\n",
       "    }\n",
       "\n",
       "    .dataframe tbody tr th {\n",
       "        vertical-align: top;\n",
       "    }\n",
       "\n",
       "    .dataframe thead th {\n",
       "        text-align: right;\n",
       "    }\n",
       "</style>\n",
       "<table border=\"1\" class=\"dataframe\">\n",
       "  <thead>\n",
       "    <tr style=\"text-align: right;\">\n",
       "      <th></th>\n",
       "      <th>converted0_test0</th>\n",
       "      <th>converted0_test1</th>\n",
       "      <th>converted1_test0</th>\n",
       "      <th>converted1_test1</th>\n",
       "      <th>test0_rate</th>\n",
       "      <th>test1_rate</th>\n",
       "      <th>d</th>\n",
       "    </tr>\n",
       "    <tr>\n",
       "      <th>datestamp</th>\n",
       "      <th></th>\n",
       "      <th></th>\n",
       "      <th></th>\n",
       "      <th></th>\n",
       "      <th></th>\n",
       "      <th></th>\n",
       "      <th></th>\n",
       "    </tr>\n",
       "  </thead>\n",
       "  <tbody>\n",
       "    <tr>\n",
       "      <th>2015-03-02</th>\n",
       "      <td>938</td>\n",
       "      <td>531</td>\n",
       "      <td>16</td>\n",
       "      <td>9</td>\n",
       "      <td>0.016771</td>\n",
       "      <td>0.016667</td>\n",
       "      <td>-0.000105</td>\n",
       "    </tr>\n",
       "    <tr>\n",
       "      <th>2015-03-03</th>\n",
       "      <td>851</td>\n",
       "      <td>530</td>\n",
       "      <td>20</td>\n",
       "      <td>6</td>\n",
       "      <td>0.022962</td>\n",
       "      <td>0.011194</td>\n",
       "      <td>-0.011768</td>\n",
       "    </tr>\n",
       "    <tr>\n",
       "      <th>2015-03-04</th>\n",
       "      <td>863</td>\n",
       "      <td>415</td>\n",
       "      <td>28</td>\n",
       "      <td>6</td>\n",
       "      <td>0.031425</td>\n",
       "      <td>0.014252</td>\n",
       "      <td>-0.017174</td>\n",
       "    </tr>\n",
       "    <tr>\n",
       "      <th>2015-03-05</th>\n",
       "      <td>1594</td>\n",
       "      <td>967</td>\n",
       "      <td>45</td>\n",
       "      <td>24</td>\n",
       "      <td>0.027456</td>\n",
       "      <td>0.024218</td>\n",
       "      <td>-0.003238</td>\n",
       "    </tr>\n",
       "    <tr>\n",
       "      <th>2015-03-06</th>\n",
       "      <td>4236</td>\n",
       "      <td>2412</td>\n",
       "      <td>79</td>\n",
       "      <td>42</td>\n",
       "      <td>0.018308</td>\n",
       "      <td>0.017115</td>\n",
       "      <td>-0.001193</td>\n",
       "    </tr>\n",
       "  </tbody>\n",
       "</table>\n",
       "</div>"
      ],
      "text/plain": [
       "            converted0_test0  converted0_test1  converted1_test0  \\\n",
       "datestamp                                                          \n",
       "2015-03-02               938               531                16   \n",
       "2015-03-03               851               530                20   \n",
       "2015-03-04               863               415                28   \n",
       "2015-03-05              1594               967                45   \n",
       "2015-03-06              4236              2412                79   \n",
       "\n",
       "            converted1_test1  test0_rate  test1_rate         d  \n",
       "datestamp                                                       \n",
       "2015-03-02                 9    0.016771    0.016667 -0.000105  \n",
       "2015-03-03                 6    0.022962    0.011194 -0.011768  \n",
       "2015-03-04                 6    0.031425    0.014252 -0.017174  \n",
       "2015-03-05                24    0.027456    0.024218 -0.003238  \n",
       "2015-03-06                42    0.018308    0.017115 -0.001193  "
      ]
     },
     "execution_count": 26,
     "metadata": {},
     "output_type": "execute_result"
    }
   ],
   "source": [
    "cr_by_day['d'] = cr_by_day['test1_rate']-cr_by_day['test0_rate']\n",
    "cr_by_day.head()"
   ]
  },
  {
   "cell_type": "markdown",
   "metadata": {},
   "source": [
    "**Wilcoxon Test**"
   ]
  },
  {
   "cell_type": "code",
   "execution_count": 27,
   "metadata": {},
   "outputs": [
    {
     "name": "stderr",
     "output_type": "stream",
     "text": [
      "//anaconda3/lib/python3.7/site-packages/scipy/stats/morestats.py:2879: UserWarning: Sample size too small for normal approximation.\n",
      "  warnings.warn(\"Sample size too small for normal approximation.\")\n"
     ]
    }
   ],
   "source": [
    "from scipy.stats import wilcoxon\n",
    "\n",
    "for index, row in cr_by_day.iterrows():\n",
    "    # print(wilcoxon(cr_by_day['d'][:index], alternative='less'))\n",
    "    cr_by_day.loc[index,'w'], cr_by_day.loc[index,'p'] = wilcoxon(cr_by_day['d'][:index], alternative='less')"
   ]
  },
  {
   "cell_type": "code",
   "execution_count": 28,
   "metadata": {},
   "outputs": [
    {
     "data": {
      "text/html": [
       "<div>\n",
       "<style scoped>\n",
       "    .dataframe tbody tr th:only-of-type {\n",
       "        vertical-align: middle;\n",
       "    }\n",
       "\n",
       "    .dataframe tbody tr th {\n",
       "        vertical-align: top;\n",
       "    }\n",
       "\n",
       "    .dataframe thead th {\n",
       "        text-align: right;\n",
       "    }\n",
       "</style>\n",
       "<table border=\"1\" class=\"dataframe\">\n",
       "  <thead>\n",
       "    <tr style=\"text-align: right;\">\n",
       "      <th></th>\n",
       "      <th>converted0_test0</th>\n",
       "      <th>converted0_test1</th>\n",
       "      <th>converted1_test0</th>\n",
       "      <th>converted1_test1</th>\n",
       "      <th>test0_rate</th>\n",
       "      <th>test1_rate</th>\n",
       "      <th>d</th>\n",
       "      <th>w</th>\n",
       "      <th>p</th>\n",
       "    </tr>\n",
       "    <tr>\n",
       "      <th>datestamp</th>\n",
       "      <th></th>\n",
       "      <th></th>\n",
       "      <th></th>\n",
       "      <th></th>\n",
       "      <th></th>\n",
       "      <th></th>\n",
       "      <th></th>\n",
       "      <th></th>\n",
       "      <th></th>\n",
       "    </tr>\n",
       "  </thead>\n",
       "  <tbody>\n",
       "    <tr>\n",
       "      <th>2015-03-02</th>\n",
       "      <td>938</td>\n",
       "      <td>531</td>\n",
       "      <td>16</td>\n",
       "      <td>9</td>\n",
       "      <td>0.016771</td>\n",
       "      <td>0.016667</td>\n",
       "      <td>-0.000105</td>\n",
       "      <td>0.0</td>\n",
       "      <td>0.158655</td>\n",
       "    </tr>\n",
       "    <tr>\n",
       "      <th>2015-03-03</th>\n",
       "      <td>851</td>\n",
       "      <td>530</td>\n",
       "      <td>20</td>\n",
       "      <td>6</td>\n",
       "      <td>0.022962</td>\n",
       "      <td>0.011194</td>\n",
       "      <td>-0.011768</td>\n",
       "      <td>0.0</td>\n",
       "      <td>0.089856</td>\n",
       "    </tr>\n",
       "    <tr>\n",
       "      <th>2015-03-04</th>\n",
       "      <td>863</td>\n",
       "      <td>415</td>\n",
       "      <td>28</td>\n",
       "      <td>6</td>\n",
       "      <td>0.031425</td>\n",
       "      <td>0.014252</td>\n",
       "      <td>-0.017174</td>\n",
       "      <td>0.0</td>\n",
       "      <td>0.054405</td>\n",
       "    </tr>\n",
       "    <tr>\n",
       "      <th>2015-03-05</th>\n",
       "      <td>1594</td>\n",
       "      <td>967</td>\n",
       "      <td>45</td>\n",
       "      <td>24</td>\n",
       "      <td>0.027456</td>\n",
       "      <td>0.024218</td>\n",
       "      <td>-0.003238</td>\n",
       "      <td>0.0</td>\n",
       "      <td>0.033945</td>\n",
       "    </tr>\n",
       "    <tr>\n",
       "      <th>2015-03-06</th>\n",
       "      <td>4236</td>\n",
       "      <td>2412</td>\n",
       "      <td>79</td>\n",
       "      <td>42</td>\n",
       "      <td>0.018308</td>\n",
       "      <td>0.017115</td>\n",
       "      <td>-0.001193</td>\n",
       "      <td>0.0</td>\n",
       "      <td>0.021557</td>\n",
       "    </tr>\n",
       "    <tr>\n",
       "      <th>2015-03-07</th>\n",
       "      <td>3314</td>\n",
       "      <td>1914</td>\n",
       "      <td>72</td>\n",
       "      <td>41</td>\n",
       "      <td>0.021264</td>\n",
       "      <td>0.020972</td>\n",
       "      <td>-0.000292</td>\n",
       "      <td>0.0</td>\n",
       "      <td>0.013854</td>\n",
       "    </tr>\n",
       "    <tr>\n",
       "      <th>2015-03-08</th>\n",
       "      <td>2607</td>\n",
       "      <td>1531</td>\n",
       "      <td>57</td>\n",
       "      <td>26</td>\n",
       "      <td>0.021396</td>\n",
       "      <td>0.016699</td>\n",
       "      <td>-0.004698</td>\n",
       "      <td>0.0</td>\n",
       "      <td>0.008980</td>\n",
       "    </tr>\n",
       "    <tr>\n",
       "      <th>2015-03-09</th>\n",
       "      <td>878</td>\n",
       "      <td>469</td>\n",
       "      <td>20</td>\n",
       "      <td>10</td>\n",
       "      <td>0.022272</td>\n",
       "      <td>0.020877</td>\n",
       "      <td>-0.001395</td>\n",
       "      <td>0.0</td>\n",
       "      <td>0.005859</td>\n",
       "    </tr>\n",
       "    <tr>\n",
       "      <th>2015-03-10</th>\n",
       "      <td>916</td>\n",
       "      <td>491</td>\n",
       "      <td>19</td>\n",
       "      <td>7</td>\n",
       "      <td>0.020321</td>\n",
       "      <td>0.014056</td>\n",
       "      <td>-0.006265</td>\n",
       "      <td>0.0</td>\n",
       "      <td>0.003843</td>\n",
       "    </tr>\n",
       "    <tr>\n",
       "      <th>2015-03-11</th>\n",
       "      <td>808</td>\n",
       "      <td>427</td>\n",
       "      <td>14</td>\n",
       "      <td>9</td>\n",
       "      <td>0.017032</td>\n",
       "      <td>0.020642</td>\n",
       "      <td>0.003611</td>\n",
       "      <td>6.0</td>\n",
       "      <td>0.014208</td>\n",
       "    </tr>\n",
       "  </tbody>\n",
       "</table>\n",
       "</div>"
      ],
      "text/plain": [
       "            converted0_test0  converted0_test1  converted1_test0  \\\n",
       "datestamp                                                          \n",
       "2015-03-02               938               531                16   \n",
       "2015-03-03               851               530                20   \n",
       "2015-03-04               863               415                28   \n",
       "2015-03-05              1594               967                45   \n",
       "2015-03-06              4236              2412                79   \n",
       "2015-03-07              3314              1914                72   \n",
       "2015-03-08              2607              1531                57   \n",
       "2015-03-09               878               469                20   \n",
       "2015-03-10               916               491                19   \n",
       "2015-03-11               808               427                14   \n",
       "\n",
       "            converted1_test1  test0_rate  test1_rate         d    w         p  \n",
       "datestamp                                                                      \n",
       "2015-03-02                 9    0.016771    0.016667 -0.000105  0.0  0.158655  \n",
       "2015-03-03                 6    0.022962    0.011194 -0.011768  0.0  0.089856  \n",
       "2015-03-04                 6    0.031425    0.014252 -0.017174  0.0  0.054405  \n",
       "2015-03-05                24    0.027456    0.024218 -0.003238  0.0  0.033945  \n",
       "2015-03-06                42    0.018308    0.017115 -0.001193  0.0  0.021557  \n",
       "2015-03-07                41    0.021264    0.020972 -0.000292  0.0  0.013854  \n",
       "2015-03-08                26    0.021396    0.016699 -0.004698  0.0  0.008980  \n",
       "2015-03-09                10    0.022272    0.020877 -0.001395  0.0  0.005859  \n",
       "2015-03-10                 7    0.020321    0.014056 -0.006265  0.0  0.003843  \n",
       "2015-03-11                 9    0.017032    0.020642  0.003611  6.0  0.014208  "
      ]
     },
     "execution_count": 28,
     "metadata": {},
     "output_type": "execute_result"
    }
   ],
   "source": [
    "cr_by_day.head(10)"
   ]
  },
  {
   "cell_type": "markdown",
   "metadata": {},
   "source": [
    "**p-value of the Wilcoxon Test dropped below 0.01 at day 7**"
   ]
  },
  {
   "cell_type": "code",
   "execution_count": 29,
   "metadata": {},
   "outputs": [
    {
     "name": "stdout",
     "output_type": "stream",
     "text": [
      "target variable:\n",
      "\n",
      "0    290282\n",
      "1      5559\n",
      "Name: converted, dtype: int64\n"
     ]
    },
    {
     "data": {
      "image/png": "[encoded data removed]",
      "text/plain": [
       "<Figure size 432x288 with 1 Axes>"
      ]
     },
     "metadata": {
      "needs_background": "light"
     },
     "output_type": "display_data"
    }
   ],
   "source": [
    "print('target variable:\\n')\n",
    "print(test_results['converted'].value_counts())\n",
    "sns.countplot(x='converted',data=test_results)\n",
    "plt.show()"
   ]
  },
  {
   "cell_type": "markdown",
   "metadata": {},
   "source": [
    "**merge two tables**"
   ]
  },
  {
   "cell_type": "code",
   "execution_count": 30,
   "metadata": {},
   "outputs": [
    {
     "name": "stdout",
     "output_type": "stream",
     "text": [
      "table user_merge:\n",
      "\n",
      "   user_id     city country    lat    long            timestamp  \\\n",
      "0   510335    Other     USA  42.53  -70.97  2015-05-02 12:06:41   \n",
      "1    89568     Reno     USA  39.54 -119.82  2015-04-30 16:02:01   \n",
      "2   434134    Other     USA  34.11 -117.39  2015-05-16 19:53:40   \n",
      "3   289769    Other     USA  39.15 -119.74  2015-04-23 18:50:58   \n",
      "4   939586  Chicago     USA  41.84  -87.68  2015-03-08 13:53:10   \n",
      "\n",
      "           source  device operative_system  test  price  converted  year  \\\n",
      "0      ads-google  mobile          android     0     39          0  2015   \n",
      "1    ads_facebook  mobile          android     1     59          0  2015   \n",
      "2  direct_traffic     web          windows     1     59          0  2015   \n",
      "3    ads_facebook     web          windows     0     39          0  2015   \n",
      "4    ads_facebook  mobile              iOS     1     59          0  2015   \n",
      "\n",
      "   month  day   datestamp  \n",
      "0      5    2  2015-05-02  \n",
      "1      4   30  2015-04-30  \n",
      "2      5   16  2015-05-16  \n",
      "3      4   23  2015-04-23  \n",
      "4      3    8  2015-03-08  \n"
     ]
    }
   ],
   "source": [
    "user_merge = user_table.merge(test_results,on='user_id')\n",
    "print('table user_merge:\\n')\n",
    "print(user_merge.head())"
   ]
  },
  {
   "cell_type": "code",
   "execution_count": 31,
   "metadata": {},
   "outputs": [
    {
     "name": "stdout",
     "output_type": "stream",
     "text": [
      "conversion rates by test group:\n",
      "\n",
      "converted       0     1      rate\n",
      "test                             \n",
      "0          161622  3331  0.020194\n",
      "1           90866  1479  0.016016\n"
     ]
    },
    {
     "data": {
      "image/png": "[encoded data removed]",
      "text/plain": [
       "<Figure size 432x288 with 1 Axes>"
      ]
     },
     "metadata": {
      "needs_background": "light"
     },
     "output_type": "display_data"
    }
   ],
   "source": [
    "ab_summary = pd.pivot_table(user_merge,values='user_id',index='test',columns='converted',aggfunc='count')\n",
    "ab_summary['rate'] = ab_summary[1]/(ab_summary[0]+ab_summary[1])\n",
    "print('conversion rates by test group:\\n')\n",
    "print(ab_summary)\n",
    "\n",
    "sns.countplot(x='test',hue='converted',data=user_merge)\n",
    "plt.show()"
   ]
  },
  {
   "cell_type": "markdown",
   "metadata": {},
   "source": [
    "# A/B Testing  \n",
    "## Null hypothesis: increase of price does not decrease conversion rate"
   ]
  },
  {
   "cell_type": "code",
   "execution_count": 32,
   "metadata": {},
   "outputs": [],
   "source": [
    "import math\n",
    "import scipy\n",
    "\n",
    "practical_significance = -0.01 #user defined\n",
    "confidence_level = 0.05 #user defined, for a 95% confidence interval\n",
    "sensitivity = 0.8 #user defined\n",
    "\n",
    "def ab_testing(df):\n",
    "    \n",
    "    #Calculate pooled probability\n",
    "    \n",
    "    #control\n",
    "    mask = (df[\"test\"] == 0)\n",
    "    conversions_control = df[\"converted\"][mask].sum()\n",
    "    total_users_control = df[\"converted\"][mask].count()\n",
    "\n",
    "    #treatment\n",
    "    mask = (df[\"test\"] == 1)\n",
    "    conversions_treatment = df[\"converted\"][mask].sum()\n",
    "    total_users_treatment = df[\"converted\"][mask].count()\n",
    "\n",
    "    prob_pooled = (conversions_control+conversions_treatment)/(total_users_control+total_users_treatment)\n",
    "\n",
    "    #Calculate pooled standard error and margin of error\n",
    "    se_pooled = math.sqrt(prob_pooled*(1-prob_pooled)*(1/total_users_control+1/total_users_treatment))\n",
    "    #z_score = scipy.stats.norm.ppf(1-confidence_level/2) # two-tail\n",
    "    z_score = scipy.stats.norm.ppf(1-confidence_level) # one-tail\n",
    "    margin_of_error = se_pooled*z_score\n",
    "\n",
    "    #Calculate dhat, the estimated difference between probability of conversions in the experiment and control groups\n",
    "    d_hat = (conversions_treatment/total_users_treatment)-(conversions_control/total_users_control)\n",
    "\n",
    "    #Test if we can reject the null hypothesis\n",
    "    lower_bound = d_hat-margin_of_error\n",
    "    upper_bound = d_hat+margin_of_error\n",
    "    \n",
    "    print('D hat is: ', round(d_hat*100,2),'%')\n",
    "    print('Pooled Pr is: ', round(prob_pooled*100,2),'%')\n",
    "    print('Pooled SE is: ', round(se_pooled*100,2),'%')\n",
    "    print('Z-score is: ', round(z_score,2))\n",
    "    print('Margin of error is: ', round(margin_of_error*100,2),'%')\n",
    "    print(\"The lower bound of the confidence interval is: \", round(lower_bound*100, 2), \"%\")\n",
    "    print(\"The upper bound of the confidence interval is: \", round(upper_bound*100, 2), \"%\")\n",
    "    \n",
    "    print(\"\\n\")\n",
    "    if practical_significance < lower_bound:\n",
    "        print(\"Reject null hypothesis!\")\n",
    "    else: \n",
    "        print(\"Do not reject the null hypothesis!\")"
   ]
  },
  {
   "cell_type": "code",
   "execution_count": 33,
   "metadata": {},
   "outputs": [
    {
     "name": "stdout",
     "output_type": "stream",
     "text": [
      "D hat is:  -0.42 %\n",
      "Pooled Pr is:  1.87 %\n",
      "Pooled SE is:  0.06 %\n",
      "Z-score is:  1.64\n",
      "Margin of error is:  0.09 %\n",
      "The lower bound of the confidence interval is:  -0.51 %\n",
      "The upper bound of the confidence interval is:  -0.33 %\n",
      "\n",
      "\n",
      "Reject null hypothesis!\n"
     ]
    }
   ],
   "source": [
    "# check clean data\n",
    "ab_testing(user_merge)"
   ]
  },
  {
   "cell_type": "code",
   "execution_count": 34,
   "metadata": {},
   "outputs": [
    {
     "name": "stdout",
     "output_type": "stream",
     "text": [
      "D hat is:  -0.42 %\n",
      "Pooled Pr is:  1.88 %\n",
      "Pooled SE is:  0.05 %\n",
      "Z-score is:  1.64\n",
      "Margin of error is:  0.09 %\n",
      "The lower bound of the confidence interval is:  -0.51 %\n",
      "The upper bound of the confidence interval is:  -0.34 %\n",
      "\n",
      "\n",
      "Reject null hypothesis!\n"
     ]
    }
   ],
   "source": [
    "# check original data with no data cleaning\n",
    "ab_testing(test_results)"
   ]
  },
  {
   "cell_type": "markdown",
   "metadata": {},
   "source": [
    "### Higher Price lowers the conversion rate!"
   ]
  },
  {
   "cell_type": "markdown",
   "metadata": {},
   "source": [
    "# Who behave differently?"
   ]
  },
  {
   "cell_type": "code",
   "execution_count": 35,
   "metadata": {},
   "outputs": [
    {
     "data": {
      "text/html": [
       "<div>\n",
       "<style scoped>\n",
       "    .dataframe tbody tr th:only-of-type {\n",
       "        vertical-align: middle;\n",
       "    }\n",
       "\n",
       "    .dataframe tbody tr th {\n",
       "        vertical-align: top;\n",
       "    }\n",
       "\n",
       "    .dataframe thead th {\n",
       "        text-align: right;\n",
       "    }\n",
       "</style>\n",
       "<table border=\"1\" class=\"dataframe\">\n",
       "  <thead>\n",
       "    <tr style=\"text-align: right;\">\n",
       "      <th></th>\n",
       "      <th>user_id</th>\n",
       "      <th>city</th>\n",
       "      <th>country</th>\n",
       "      <th>lat</th>\n",
       "      <th>long</th>\n",
       "      <th>timestamp</th>\n",
       "      <th>source</th>\n",
       "      <th>device</th>\n",
       "      <th>operative_system</th>\n",
       "      <th>test</th>\n",
       "      <th>price</th>\n",
       "      <th>converted</th>\n",
       "      <th>year</th>\n",
       "      <th>month</th>\n",
       "      <th>day</th>\n",
       "      <th>datestamp</th>\n",
       "    </tr>\n",
       "  </thead>\n",
       "  <tbody>\n",
       "    <tr>\n",
       "      <th>0</th>\n",
       "      <td>510335</td>\n",
       "      <td>Other</td>\n",
       "      <td>USA</td>\n",
       "      <td>42.53</td>\n",
       "      <td>-70.97</td>\n",
       "      <td>2015-05-02 12:06:41</td>\n",
       "      <td>ads-google</td>\n",
       "      <td>mobile</td>\n",
       "      <td>android</td>\n",
       "      <td>0</td>\n",
       "      <td>39</td>\n",
       "      <td>0</td>\n",
       "      <td>2015</td>\n",
       "      <td>5</td>\n",
       "      <td>2</td>\n",
       "      <td>2015-05-02</td>\n",
       "    </tr>\n",
       "    <tr>\n",
       "      <th>1</th>\n",
       "      <td>89568</td>\n",
       "      <td>Reno</td>\n",
       "      <td>USA</td>\n",
       "      <td>39.54</td>\n",
       "      <td>-119.82</td>\n",
       "      <td>2015-04-30 16:02:01</td>\n",
       "      <td>ads_facebook</td>\n",
       "      <td>mobile</td>\n",
       "      <td>android</td>\n",
       "      <td>1</td>\n",
       "      <td>59</td>\n",
       "      <td>0</td>\n",
       "      <td>2015</td>\n",
       "      <td>4</td>\n",
       "      <td>30</td>\n",
       "      <td>2015-04-30</td>\n",
       "    </tr>\n",
       "    <tr>\n",
       "      <th>2</th>\n",
       "      <td>434134</td>\n",
       "      <td>Other</td>\n",
       "      <td>USA</td>\n",
       "      <td>34.11</td>\n",
       "      <td>-117.39</td>\n",
       "      <td>2015-05-16 19:53:40</td>\n",
       "      <td>direct_traffic</td>\n",
       "      <td>web</td>\n",
       "      <td>windows</td>\n",
       "      <td>1</td>\n",
       "      <td>59</td>\n",
       "      <td>0</td>\n",
       "      <td>2015</td>\n",
       "      <td>5</td>\n",
       "      <td>16</td>\n",
       "      <td>2015-05-16</td>\n",
       "    </tr>\n",
       "    <tr>\n",
       "      <th>3</th>\n",
       "      <td>289769</td>\n",
       "      <td>Other</td>\n",
       "      <td>USA</td>\n",
       "      <td>39.15</td>\n",
       "      <td>-119.74</td>\n",
       "      <td>2015-04-23 18:50:58</td>\n",
       "      <td>ads_facebook</td>\n",
       "      <td>web</td>\n",
       "      <td>windows</td>\n",
       "      <td>0</td>\n",
       "      <td>39</td>\n",
       "      <td>0</td>\n",
       "      <td>2015</td>\n",
       "      <td>4</td>\n",
       "      <td>23</td>\n",
       "      <td>2015-04-23</td>\n",
       "    </tr>\n",
       "    <tr>\n",
       "      <th>4</th>\n",
       "      <td>939586</td>\n",
       "      <td>Chicago</td>\n",
       "      <td>USA</td>\n",
       "      <td>41.84</td>\n",
       "      <td>-87.68</td>\n",
       "      <td>2015-03-08 13:53:10</td>\n",
       "      <td>ads_facebook</td>\n",
       "      <td>mobile</td>\n",
       "      <td>iOS</td>\n",
       "      <td>1</td>\n",
       "      <td>59</td>\n",
       "      <td>0</td>\n",
       "      <td>2015</td>\n",
       "      <td>3</td>\n",
       "      <td>8</td>\n",
       "      <td>2015-03-08</td>\n",
       "    </tr>\n",
       "  </tbody>\n",
       "</table>\n",
       "</div>"
      ],
      "text/plain": [
       "   user_id     city country    lat    long            timestamp  \\\n",
       "0   510335    Other     USA  42.53  -70.97  2015-05-02 12:06:41   \n",
       "1    89568     Reno     USA  39.54 -119.82  2015-04-30 16:02:01   \n",
       "2   434134    Other     USA  34.11 -117.39  2015-05-16 19:53:40   \n",
       "3   289769    Other     USA  39.15 -119.74  2015-04-23 18:50:58   \n",
       "4   939586  Chicago     USA  41.84  -87.68  2015-03-08 13:53:10   \n",
       "\n",
       "           source  device operative_system  test  price  converted  year  \\\n",
       "0      ads-google  mobile          android     0     39          0  2015   \n",
       "1    ads_facebook  mobile          android     1     59          0  2015   \n",
       "2  direct_traffic     web          windows     1     59          0  2015   \n",
       "3    ads_facebook     web          windows     0     39          0  2015   \n",
       "4    ads_facebook  mobile              iOS     1     59          0  2015   \n",
       "\n",
       "   month  day   datestamp  \n",
       "0      5    2  2015-05-02  \n",
       "1      4   30  2015-04-30  \n",
       "2      5   16  2015-05-16  \n",
       "3      4   23  2015-04-23  \n",
       "4      3    8  2015-03-08  "
      ]
     },
     "execution_count": 35,
     "metadata": {},
     "output_type": "execute_result"
    }
   ],
   "source": [
    "user_merge.head()"
   ]
  },
  {
   "cell_type": "code",
   "execution_count": 36,
   "metadata": {},
   "outputs": [
    {
     "data": {
      "image/png": "[encoded data removed]",
      "text/plain": [
       "<Figure size 1152x288 with 1 Axes>"
      ]
     },
     "metadata": {
      "needs_background": "light"
     },
     "output_type": "display_data"
    }
   ],
   "source": [
    "plt.figure(figsize=(16,4))\n",
    "sns.barplot(x='source',y='converted',hue='test',data=user_merge)\n",
    "plt.show()"
   ]
  },
  {
   "cell_type": "markdown",
   "metadata": {},
   "source": [
    "*Note: \"friend_referral\" has the highest conversion rate*"
   ]
  },
  {
   "cell_type": "code",
   "execution_count": 37,
   "metadata": {},
   "outputs": [
    {
     "data": {
      "image/png": "[encoded data removed]",
      "text/plain": [
       "<Figure size 288x288 with 1 Axes>"
      ]
     },
     "metadata": {
      "needs_background": "light"
     },
     "output_type": "display_data"
    }
   ],
   "source": [
    "plt.figure(figsize=(4,4))\n",
    "sns.barplot(x='device',y='converted',hue='test',data=user_merge)\n",
    "plt.show()"
   ]
  },
  {
   "cell_type": "code",
   "execution_count": 38,
   "metadata": {},
   "outputs": [
    {
     "data": {
      "image/png": "[encoded data removed]",
      "text/plain": [
       "<Figure size 576x288 with 1 Axes>"
      ]
     },
     "metadata": {
      "needs_background": "light"
     },
     "output_type": "display_data"
    }
   ],
   "source": [
    "plt.figure(figsize=(8,4))\n",
    "sns.barplot(x='operative_system',y='converted',hue='test',data=user_merge)\n",
    "plt.show()"
   ]
  },
  {
   "cell_type": "markdown",
   "metadata": {},
   "source": [
    "*Note: \"macOS\" has the highest conversion rate*"
   ]
  },
  {
   "cell_type": "code",
   "execution_count": 39,
   "metadata": {},
   "outputs": [
    {
     "data": {
      "image/png": "[encoded data removed]",
      "text/plain": [
       "<Figure size 432x288 with 1 Axes>"
      ]
     },
     "metadata": {
      "needs_background": "light"
     },
     "output_type": "display_data"
    }
   ],
   "source": [
    "plt.figure(figsize=(6,4))\n",
    "sns.barplot(x='month',y='converted',hue='test',data=user_merge)\n",
    "plt.show()"
   ]
  },
  {
   "cell_type": "code",
   "execution_count": 40,
   "metadata": {
    "scrolled": true
   },
   "outputs": [
    {
     "data": {
      "image/png": "[encoded data removed]",
      "text/plain": [
       "<Figure size 720x3600 with 1 Axes>"
      ]
     },
     "metadata": {
      "needs_background": "light"
     },
     "output_type": "display_data"
    }
   ],
   "source": [
    "plt.figure(figsize=(10,50))\n",
    "sns.barplot(x='converted',y='city',hue='test',data=user_merge,order=city_head99_list)\n",
    "plt.show()"
   ]
  },
  {
   "cell_type": "code",
   "execution_count": 41,
   "metadata": {},
   "outputs": [
    {
     "data": {
      "text/html": [
       "<div>\n",
       "<style scoped>\n",
       "    .dataframe tbody tr th:only-of-type {\n",
       "        vertical-align: middle;\n",
       "    }\n",
       "\n",
       "    .dataframe tbody tr th {\n",
       "        vertical-align: top;\n",
       "    }\n",
       "\n",
       "    .dataframe thead th {\n",
       "        text-align: right;\n",
       "    }\n",
       "</style>\n",
       "<table border=\"1\" class=\"dataframe\">\n",
       "  <thead>\n",
       "    <tr style=\"text-align: right;\">\n",
       "      <th></th>\n",
       "      <th>user_id</th>\n",
       "      <th>city</th>\n",
       "      <th>country</th>\n",
       "      <th>lat</th>\n",
       "      <th>long</th>\n",
       "      <th>timestamp</th>\n",
       "      <th>source</th>\n",
       "      <th>device</th>\n",
       "      <th>operative_system</th>\n",
       "      <th>test</th>\n",
       "      <th>price</th>\n",
       "      <th>converted</th>\n",
       "      <th>year</th>\n",
       "      <th>month</th>\n",
       "      <th>day</th>\n",
       "      <th>datestamp</th>\n",
       "    </tr>\n",
       "  </thead>\n",
       "  <tbody>\n",
       "    <tr>\n",
       "      <th>0</th>\n",
       "      <td>510335</td>\n",
       "      <td>Other</td>\n",
       "      <td>USA</td>\n",
       "      <td>42.53</td>\n",
       "      <td>-70.97</td>\n",
       "      <td>2015-05-02 12:06:41</td>\n",
       "      <td>ads-google</td>\n",
       "      <td>mobile</td>\n",
       "      <td>android</td>\n",
       "      <td>0</td>\n",
       "      <td>39</td>\n",
       "      <td>0</td>\n",
       "      <td>2015</td>\n",
       "      <td>5</td>\n",
       "      <td>2</td>\n",
       "      <td>2015-05-02</td>\n",
       "    </tr>\n",
       "    <tr>\n",
       "      <th>1</th>\n",
       "      <td>89568</td>\n",
       "      <td>Reno</td>\n",
       "      <td>USA</td>\n",
       "      <td>39.54</td>\n",
       "      <td>-119.82</td>\n",
       "      <td>2015-04-30 16:02:01</td>\n",
       "      <td>ads_facebook</td>\n",
       "      <td>mobile</td>\n",
       "      <td>android</td>\n",
       "      <td>1</td>\n",
       "      <td>59</td>\n",
       "      <td>0</td>\n",
       "      <td>2015</td>\n",
       "      <td>4</td>\n",
       "      <td>30</td>\n",
       "      <td>2015-04-30</td>\n",
       "    </tr>\n",
       "    <tr>\n",
       "      <th>2</th>\n",
       "      <td>434134</td>\n",
       "      <td>Other</td>\n",
       "      <td>USA</td>\n",
       "      <td>34.11</td>\n",
       "      <td>-117.39</td>\n",
       "      <td>2015-05-16 19:53:40</td>\n",
       "      <td>direct_traffic</td>\n",
       "      <td>web</td>\n",
       "      <td>windows</td>\n",
       "      <td>1</td>\n",
       "      <td>59</td>\n",
       "      <td>0</td>\n",
       "      <td>2015</td>\n",
       "      <td>5</td>\n",
       "      <td>16</td>\n",
       "      <td>2015-05-16</td>\n",
       "    </tr>\n",
       "    <tr>\n",
       "      <th>3</th>\n",
       "      <td>289769</td>\n",
       "      <td>Other</td>\n",
       "      <td>USA</td>\n",
       "      <td>39.15</td>\n",
       "      <td>-119.74</td>\n",
       "      <td>2015-04-23 18:50:58</td>\n",
       "      <td>ads_facebook</td>\n",
       "      <td>web</td>\n",
       "      <td>windows</td>\n",
       "      <td>0</td>\n",
       "      <td>39</td>\n",
       "      <td>0</td>\n",
       "      <td>2015</td>\n",
       "      <td>4</td>\n",
       "      <td>23</td>\n",
       "      <td>2015-04-23</td>\n",
       "    </tr>\n",
       "    <tr>\n",
       "      <th>4</th>\n",
       "      <td>939586</td>\n",
       "      <td>Chicago</td>\n",
       "      <td>USA</td>\n",
       "      <td>41.84</td>\n",
       "      <td>-87.68</td>\n",
       "      <td>2015-03-08 13:53:10</td>\n",
       "      <td>ads_facebook</td>\n",
       "      <td>mobile</td>\n",
       "      <td>iOS</td>\n",
       "      <td>1</td>\n",
       "      <td>59</td>\n",
       "      <td>0</td>\n",
       "      <td>2015</td>\n",
       "      <td>3</td>\n",
       "      <td>8</td>\n",
       "      <td>2015-03-08</td>\n",
       "    </tr>\n",
       "  </tbody>\n",
       "</table>\n",
       "</div>"
      ],
      "text/plain": [
       "   user_id     city country    lat    long            timestamp  \\\n",
       "0   510335    Other     USA  42.53  -70.97  2015-05-02 12:06:41   \n",
       "1    89568     Reno     USA  39.54 -119.82  2015-04-30 16:02:01   \n",
       "2   434134    Other     USA  34.11 -117.39  2015-05-16 19:53:40   \n",
       "3   289769    Other     USA  39.15 -119.74  2015-04-23 18:50:58   \n",
       "4   939586  Chicago     USA  41.84  -87.68  2015-03-08 13:53:10   \n",
       "\n",
       "           source  device operative_system  test  price  converted  year  \\\n",
       "0      ads-google  mobile          android     0     39          0  2015   \n",
       "1    ads_facebook  mobile          android     1     59          0  2015   \n",
       "2  direct_traffic     web          windows     1     59          0  2015   \n",
       "3    ads_facebook     web          windows     0     39          0  2015   \n",
       "4    ads_facebook  mobile              iOS     1     59          0  2015   \n",
       "\n",
       "   month  day   datestamp  \n",
       "0      5    2  2015-05-02  \n",
       "1      4   30  2015-04-30  \n",
       "2      5   16  2015-05-16  \n",
       "3      4   23  2015-04-23  \n",
       "4      3    8  2015-03-08  "
      ]
     },
     "execution_count": 41,
     "metadata": {},
     "output_type": "execute_result"
    }
   ],
   "source": [
    "user_merge.head()\n",
    "#sns.pairplot(user_merge)"
   ]
  },
  {
   "cell_type": "code",
   "execution_count": 42,
   "metadata": {
    "scrolled": true
   },
   "outputs": [],
   "source": [
    "from sklearn.ensemble import RandomForestClassifier\n",
    "from sklearn.model_selection import train_test_split\n",
    "from sklearn.metrics import confusion_matrix, classification_report, accuracy_score\n",
    "from sklearn.preprocessing import StandardScaler, MinMaxScaler\n",
    "\n",
    "SEED = 101\n",
    "TEST_SIZE = 0.2\n",
    "\n",
    "def model_evaluation(y_test, predictions):\n",
    "    print('Confusion Matrix\\n\\n{}'.format(confusion_matrix(y_test, predictions)))\n",
    "    print('\\n')\n",
    "    print('Classification Report\\n\\n{}'.format(classification_report(y_test, predictions)))\n",
    "    print('\\n')\n",
    "    print('Accuracy Score\\n\\n{}'.format(accuracy_score(y_test, predictions)))\n",
    "\n",
    "X = pd.concat([user_merge.drop(['user_id','country','timestamp','price','converted','year','datestamp','city',\n",
    "                                'source','device','operative_system'], axis = 1), \n",
    "       pd.get_dummies(user_merge[[#'city',\n",
    "                                  'source','device','operative_system']],\n",
    "                      drop_first = True#, dummy_na = True\n",
    "                     )], axis = 1)\n",
    "y = user_merge['converted']"
   ]
  },
  {
   "cell_type": "code",
   "execution_count": 43,
   "metadata": {},
   "outputs": [],
   "source": [
    "X_train, X_test, y_train, y_test = train_test_split(X.values, y.values, \n",
    "                                                    test_size = TEST_SIZE, random_state = SEED)\n",
    "\n",
    "# data scale\n",
    "#scaler = MinMaxScaler()\n",
    "scaler = StandardScaler()\n",
    "X_train = scaler.fit_transform(X_train)\n",
    "X_test = scaler.transform(X_test)"
   ]
  },
  {
   "cell_type": "code",
   "execution_count": null,
   "metadata": {
    "scrolled": true
   },
   "outputs": [],
   "source": [
    "# # SMOTE - Oversample\n",
    "# from imblearn.over_sampling import SMOTE \n",
    "# sm = SMOTE(random_state = SEED)\n",
    "# X_train_res, y_train_res = sm.fit_sample(X_train, y_train)\n",
    "\n",
    "# # Undersample\n",
    "# from imblearn.under_sampling import NearMiss\n",
    "# # undersample = NearMiss(version=1, n_neighbors=3)\n",
    "# undersample = NearMiss(version=2, n_neighbors=3)\n",
    "# # undersample = NearMiss(version=3, n_neighbors_ver3=3)\n",
    "# # undersample = TomekLinks()\n",
    "# # undersample = EditedNearestNeighbours(n_neighbors=3)\n",
    "# # undersample = OneSidedSelection(n_neighbors=1, n_seeds_S=200)\n",
    "# # undersample = NeighbourhoodCleaningRule(n_neighbors=3, threshold_cleaning=0.5)\n",
    "# X_train_res, y_train_res = undersample.fit_resample(X_train, y_train)\n",
    "\n",
    "# import xgboost as xgb\n",
    "# data_dmatrix = xgb.DMatrix(data=X,label=y)\n",
    "# xg_reg = xgb.XGBClassifier(objective ='binary:logistic', colsample_bytree = 0.3, learning_rate = 0.1,\n",
    "#                 max_depth = 5, alpha = 10, n_estimators = 10)\n",
    "# xg_reg.fit(X_train,y_train)\n",
    "# # xg_reg.fit(X_train_res,y_train_res)\n",
    "# preds = xg_reg.predict(X_test)\n",
    "\n",
    "# model_evaluation(y_test, preds)"
   ]
  },
  {
   "cell_type": "code",
   "execution_count": 44,
   "metadata": {},
   "outputs": [
    {
     "name": "stderr",
     "output_type": "stream",
     "text": [
      "//anaconda3/lib/python3.7/site-packages/sklearn/ensemble/forest.py:245: FutureWarning: The default value of n_estimators will change from 10 in version 0.20 to 100 in 0.22.\n",
      "  \"10 in version 0.20 to 100 in 0.22.\", FutureWarning)\n"
     ]
    },
    {
     "name": "stdout",
     "output_type": "stream",
     "text": [
      "Confusion Matrix\n",
      "\n",
      "[[50470    52]\n",
      " [  927    11]]\n",
      "\n",
      "\n",
      "Classification Report\n",
      "\n",
      "              precision    recall  f1-score   support\n",
      "\n",
      "           0       0.98      1.00      0.99     50522\n",
      "           1       0.17      0.01      0.02       938\n",
      "\n",
      "    accuracy                           0.98     51460\n",
      "   macro avg       0.58      0.51      0.51     51460\n",
      "weighted avg       0.97      0.98      0.97     51460\n",
      "\n",
      "\n",
      "\n",
      "Accuracy Score\n",
      "\n",
      "0.9809755149630781\n"
     ]
    }
   ],
   "source": [
    "forest = RandomForestClassifier(random_state=SEED,class_weight={0: 0.98, 1: 0.02})\n",
    "forest.fit(X_train, y_train)\n",
    "preds = forest.predict(X_test)\n",
    "model_evaluation(y_test, preds)"
   ]
  },
  {
   "cell_type": "code",
   "execution_count": 45,
   "metadata": {},
   "outputs": [
    {
     "name": "stdout",
     "output_type": "stream",
     "text": [
      "Feature ranking:\n",
      "1. feature 1 (0.309928)\n",
      "2. feature 4 (0.303979)\n",
      "3. feature 0 (0.296621)\n",
      "4. feature 3 (0.044484)\n",
      "5. feature 2 (0.009011)\n",
      "6. feature 12 (0.005267)\n",
      "7. feature 5 (0.004363)\n",
      "8. feature 15 (0.003991)\n",
      "9. feature 7 (0.003150)\n",
      "10. feature 17 (0.002607)\n",
      "11. feature 6 (0.002455)\n",
      "12. feature 8 (0.002247)\n",
      "13. feature 16 (0.002165)\n",
      "14. feature 13 (0.002045)\n",
      "15. feature 19 (0.001853)\n",
      "16. feature 14 (0.001698)\n",
      "17. feature 11 (0.001395)\n",
      "18. feature 10 (0.001070)\n",
      "19. feature 9 (0.001057)\n",
      "20. feature 18 (0.000614)\n"
     ]
    },
    {
     "data": {
      "image/png": "[encoded data removed]",
      "text/plain": [
       "<Figure size 432x288 with 1 Axes>"
      ]
     },
     "metadata": {
      "needs_background": "light"
     },
     "output_type": "display_data"
    }
   ],
   "source": [
    "importances = forest.feature_importances_\n",
    "std = np.std([tree.feature_importances_ for tree in forest.estimators_],\n",
    "             axis=0)\n",
    "indices = np.argsort(importances)[::-1]\n",
    "\n",
    "# Print the feature ranking\n",
    "print(\"Feature ranking:\")\n",
    "\n",
    "for f in range(X_train.shape[1]):\n",
    "    print(\"%d. feature %d (%f)\" % (f + 1, indices[f], importances[indices[f]]))\n",
    "\n",
    "# Plot the feature importances of the forest\n",
    "plt.figure()\n",
    "plt.title(\"Feature importances\")\n",
    "plt.bar(range(X_train.shape[1]), importances[indices],\n",
    "       color=\"r\", yerr=std[indices], align=\"center\")\n",
    "plt.xticks(range(X_train.shape[1]), indices)\n",
    "plt.xlim([-1, X_train.shape[1]])\n",
    "plt.show()"
   ]
  },
  {
   "cell_type": "code",
   "execution_count": 46,
   "metadata": {},
   "outputs": [
    {
     "data": {
      "text/plain": [
       "Index(['lat', 'long', 'test', 'month', 'day', 'source_ads-google',\n",
       "       'source_ads-yahoo', 'source_ads_facebook', 'source_ads_other',\n",
       "       'source_direct_traffic', 'source_friend_referral', 'source_seo-bing',\n",
       "       'source_seo-google', 'source_seo-other', 'source_seo-yahoo',\n",
       "       'source_seo_facebook', 'device_web', 'operative_system_iOS',\n",
       "       'operative_system_macOS', 'operative_system_windows'],\n",
       "      dtype='object')"
      ]
     },
     "execution_count": 46,
     "metadata": {},
     "output_type": "execute_result"
    }
   ],
   "source": [
    "X.columns"
   ]
  },
  {
   "cell_type": "markdown",
   "metadata": {},
   "source": [
    "*1 -> 'long'*  \n",
    "*4 -> 'day'*  \n",
    "*0 -> 'lat'*  \n",
    "*3 -> 'month'*  \n",
    "*2 -> 'test'*"
   ]
  },
  {
   "cell_type": "code",
   "execution_count": 47,
   "metadata": {},
   "outputs": [
    {
     "name": "stderr",
     "output_type": "stream",
     "text": [
      "//anaconda3/lib/python3.7/site-packages/sklearn/ensemble/forest.py:245: FutureWarning: The default value of n_estimators will change from 10 in version 0.20 to 100 in 0.22.\n",
      "  \"10 in version 0.20 to 100 in 0.22.\", FutureWarning)\n"
     ]
    },
    {
     "data": {
      "text/plain": [
       "RandomForestClassifier(bootstrap=True, class_weight={0: 0.98, 1: 0.02},\n",
       "                       criterion='gini', max_depth=None, max_features='auto',\n",
       "                       max_leaf_nodes=None, min_impurity_decrease=0.0,\n",
       "                       min_impurity_split=None, min_samples_leaf=1,\n",
       "                       min_samples_split=2, min_weight_fraction_leaf=0.0,\n",
       "                       n_estimators=10, n_jobs=None, oob_score=False,\n",
       "                       random_state=42, verbose=0, warm_start=False)"
      ]
     },
     "execution_count": 47,
     "metadata": {},
     "output_type": "execute_result"
    }
   ],
   "source": [
    "X_train, X_test, y_train, y_test = train_test_split(X[['source_ads-google',\n",
    "       'source_ads-yahoo', 'source_ads_facebook', 'source_ads_other',\n",
    "       'source_direct_traffic', 'source_friend_referral', 'source_seo-bing',\n",
    "       'source_seo-google', 'source_seo-other', 'source_seo-yahoo',\n",
    "       'source_seo_facebook', 'device_web', 'operative_system_iOS',\n",
    "       'operative_system_macOS', 'operative_system_windows']], y, test_size=TEST_SIZE, random_state=SEED)\n",
    "forest = RandomForestClassifier(random_state=42,class_weight={0: 0.98, 1: 0.02})\n",
    "forest.fit(X_train, np.array(y_train))"
   ]
  },
  {
   "cell_type": "code",
   "execution_count": 48,
   "metadata": {},
   "outputs": [
    {
     "name": "stdout",
     "output_type": "stream",
     "text": [
      "Feature ranking:\n",
      "1. feature 5 (0.477331)\n",
      "2. feature 12 (0.113163)\n",
      "3. feature 4 (0.090447)\n",
      "4. feature 0 (0.066588)\n",
      "5. feature 2 (0.063101)\n",
      "6. feature 14 (0.028320)\n",
      "7. feature 13 (0.025875)\n",
      "8. feature 3 (0.024547)\n",
      "9. feature 11 (0.023932)\n",
      "10. feature 7 (0.017795)\n",
      "11. feature 8 (0.016249)\n",
      "12. feature 10 (0.015054)\n",
      "13. feature 9 (0.013649)\n",
      "14. feature 6 (0.012362)\n",
      "15. feature 1 (0.011587)\n"
     ]
    },
    {
     "data": {
      "image/png": "[encoded data removed]",
      "text/plain": [
       "<Figure size 432x288 with 1 Axes>"
      ]
     },
     "metadata": {
      "needs_background": "light"
     },
     "output_type": "display_data"
    }
   ],
   "source": [
    "importances = forest.feature_importances_\n",
    "std = np.std([tree.feature_importances_ for tree in forest.estimators_],\n",
    "             axis=0)\n",
    "indices = np.argsort(importances)[::-1]\n",
    "\n",
    "# Print the feature ranking\n",
    "print(\"Feature ranking:\")\n",
    "\n",
    "for f in range(X_train.shape[1]):\n",
    "    print(\"%d. feature %d (%f)\" % (f + 1, indices[f], importances[indices[f]]))\n",
    "\n",
    "# Plot the feature importances of the forest\n",
    "plt.figure()\n",
    "plt.title(\"Feature importances\")\n",
    "plt.bar(range(X_train.shape[1]), importances[indices],\n",
    "       color=\"r\", yerr=std[indices], align=\"center\")\n",
    "plt.xticks(range(X_train.shape[1]), indices)\n",
    "plt.xlim([-1, X_train.shape[1]])\n",
    "plt.show()"
   ]
  },
  {
   "cell_type": "markdown",
   "metadata": {},
   "source": [
    "*5 -> 'source_friend_referral'*  \n",
    "*12 -> 'operative_system_iOS'*  \n",
    "*4 -> 'source_direct_traffic'*  \n",
    "*0 -> 'source_ads-google'*  \n",
    "*2 -> 'source_ads_facebook'*"
   ]
  }
 ],
 "metadata": {
  "kernelspec": {
   "display_name": "Python 3",
   "language": "python",
   "name": "python3"
  },
  "language_info": {
   "codemirror_mode": {
    "name": "ipython",
    "version": 3
   },
   "file_extension": ".py",
   "mimetype": "text/x-python",
   "name": "python",
   "nbconvert_exporter": "python",
   "pygments_lexer": "ipython3",
   "version": "3.7.3"
  }
 },
 "nbformat": 4,
 "nbformat_minor": 2
}
